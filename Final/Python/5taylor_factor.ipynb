{
 "cells": [
  {
   "cell_type": "code",
   "execution_count": 1,
   "metadata": {
    "collapsed": true
   },
   "outputs": [],
   "source": [
    "# RMatOfBunge...?\n",
    "\n",
    "from numpy import *\n",
    "\n",
    "def get_R_o(EAngles):\n",
    "\n",
    "    # returns rotation matrix\n",
    "            \n",
    "    R_o = zeros((3,3),dtype=double)\n",
    "    \n",
    "    euler_phi1 = EAngles[0]\n",
    "    euler_Phi = EAngles[1]\n",
    "    euler_phi2 = EAngles[2]\n",
    "    \n",
    "    R_o[0,0]= cos(euler_phi1)*cos(euler_phi2) - sin(euler_phi1)*sin(euler_phi2)*cos(euler_Phi)\n",
    "    R_o[1,0]= -cos(euler_phi1)*sin(euler_phi2) - sin(euler_phi1)*cos(euler_phi2)*cos(euler_Phi)\n",
    "    R_o[2,0]= sin(euler_phi1)*sin(euler_Phi)\n",
    "    R_o[0,1]= sin(euler_phi1)*cos(euler_phi2) + cos(euler_phi1)*sin(euler_phi2)*cos(euler_Phi)\n",
    "    R_o[1,1]= -sin(euler_phi1)*sin(euler_phi2) + cos(euler_phi1)*cos(euler_phi2)*cos(euler_Phi) \n",
    "    R_o[2,1]= -cos(euler_phi1)*sin(euler_Phi)\n",
    "    R_o[0,2]= sin(euler_phi2)*sin(euler_Phi)  \n",
    "    R_o[1,2]= cos(euler_phi2)*sin(euler_Phi)\n",
    "    R_o[2,2]= cos(euler_Phi) \n",
    "\n",
    "    return asmatrix(R_o)"
   ]
  },
  {
   "cell_type": "code",
   "execution_count": 2,
   "metadata": {
    "collapsed": false
   },
   "outputs": [],
   "source": [
    "import numpy as np\n",
    "from math import sqrt\n",
    "\n",
    "def bcrossn():\n",
    "    b = np.array([[0, 1, -1],\n",
    "                 [1, 0, -1],\n",
    "                 [1, -1, 0],\n",
    "                 [0, -1, 1],\n",
    "                 [1, 0, 1],\n",
    "                 [1, 1, 0],\n",
    "                 [0, 1, 1],\n",
    "                 [-1, 0, 1],\n",
    "                 [-1, -1, 0],\n",
    "                 [0, -1, -1],\n",
    "                 [-1, 0, -1],\n",
    "                 [-1, 1, 0]])\n",
    "    \n",
    "    n = np.array([[1, 1, 1],\n",
    "                 [1, 1, 1],\n",
    "                 [1, 1, 1],\n",
    "                 [-1, 1, 1],\n",
    "                 [-1, 1, 1],\n",
    "                 [-1, 1, 1],\n",
    "                 [1, -1, 1],\n",
    "                 [1, -1, 1],\n",
    "                 [1, -1, 1],\n",
    "                 [1, 1, -1],\n",
    "                 [1, 1, -1],\n",
    "                 [1, 1, -1]])\n",
    "    \n",
    "    m = np.empty((12,3,3))\n",
    "    q = np.empty((12,3,3))\n",
    "    for i in range(12):\n",
    "        Schmid = ((1 / sqrt(6)) * b[i,:].reshape((3,1)) * n[i,:])\n",
    "        m[i,:,:] = .5 * (Schmid + Schmid.T)\n",
    "        q[i,:,:] = .5 * (Schmid - Schmid.T)\n",
    "    return m,q"
   ]
  },
  {
   "cell_type": "code",
   "execution_count": 3,
   "metadata": {
    "collapsed": false
   },
   "outputs": [],
   "source": [
    "def vertex_stress(i):\n",
    "    v = np.zeros((28,6))\n",
    "    v[0] = [1, -1, 0, 0, 0, 0]\n",
    "    v[1] = [0, 1, -1, 0, 0, 0]\n",
    "    v[2] = [-1, 0, 1, 0, 0, 0]\n",
    "    v[3] = [0, 0, 0, 1, 0, 0]\n",
    "    v[4] = [0, 0, 0, 0, 1, 0]\n",
    "    v[5] = [0, 0, 0, 0, 0, 1]\n",
    "    v[6] = [.5, -1, .5, 0, .5, 0]\n",
    "    v[7] = [.5, -1, .5, 0, -.5, 0]\n",
    "    v[8] = [-1, .5, .5, .5, 0, 0]\n",
    "    v[9]= [-1, .5, .5, -.5, 0, 0]\n",
    "    v[10]= [.5, .5, -1, 0, 0, .5]\n",
    "    v[11]= [.5, .5, -1, 0, 0, -.5]\n",
    "    v[12]= [.5, 0, -.5, .5, 0, .5]\n",
    "    v[13]= [.5, 0, -.5, -.5, 0, .5]\n",
    "    v[14]= [.5, 0, -.5, .5, 0, -.5]\n",
    "    v[15]= [.5, 0, -.5, -.5, 0, -.5]\n",
    "    v[16]= [0, -.5, .5, 0, .5, .5]\n",
    "    v[17]= [0, -.5, .5, 0, -.5, .5]\n",
    "    v[18]= [0, -.5, .5, 0, .5, -.5]\n",
    "    v[19]= [0, -.5, .5, 0, -.5, -.5]\n",
    "    v[20]= [-.5, .5, 0, .5, .5, 0]\n",
    "    v[21]= [-.5, .5, 0, -.5, .5, 0]\n",
    "    v[22]= [-.5, .5, 0, .5, -.5, 0]\n",
    "    v[23]= [-.5, .5, 0, -.5, -.5, 0]\n",
    "    v[24]= [0, 0, 0, .5, .5, .5]\n",
    "    v[25]= [0, 0, 0, .5, -.5, .5]\n",
    "    v[26]= [0, 0, 0, -.5, .5, .5]\n",
    "    v[27]= [0, 0, 0, .5, .5, .5]\n",
    "\n",
    "    return sqrt(6) * v[i]"
   ]
  },
  {
   "cell_type": "code",
   "execution_count": 4,
   "metadata": {
    "collapsed": true
   },
   "outputs": [],
   "source": [
    "def vect2dev_tensor(V):\n",
    "    DT = np.zeros((3,3))\n",
    "    DT[0,0] = (V[2] - V[1]) / 3\n",
    "    DT[1,1] = (V[0] - V[2]) / 3\n",
    "    DT[2,2] = (V[1] - V[0]) / 3\n",
    "    DT[0,1] = V[5]\n",
    "    DT[1,0] = V[5]\n",
    "    DT[0,2] = V[4]\n",
    "    DT[2,0] = V[4]\n",
    "    DT[1,2] = V[3]\n",
    "    DT[2,1] = V[3]\n",
    "    return DT"
   ]
  },
  {
   "cell_type": "code",
   "execution_count": 5,
   "metadata": {
    "collapsed": false
   },
   "outputs": [],
   "source": [
    "def BHmodel(de_c, g, i):\n",
    "    dW = []\n",
    "    for j in range(28):\n",
    "        vs = vertex_stress(j)\n",
    "        A = vs[0]\n",
    "        B = vs[1]\n",
    "        C = vs[2]\n",
    "        F = vs[3]\n",
    "        G = vs[4]\n",
    "        H = vs[5]\n",
    "\n",
    "        dW.append(-B * de_c[0,0] + A * de_c[1,1] + 2 * F * de_c[2,1] + 2 * G * de_c[2,0] + 2 * H * de_c[0,1])\n",
    "    \n",
    "#     print dW\n",
    "    maxdW = 0\n",
    "    index = -1\n",
    "    for i in range(len(dW)):\n",
    "        if abs(dW[i]) > maxdW:\n",
    "            maxdW = abs(dW[i])\n",
    "            index = i\n",
    "#     print maxdW\n",
    "#     print index\n",
    "    if dW[index] < 0:\n",
    "        S_c = -1 * vertex_stress(index)\n",
    "    else:\n",
    "        S_c = vertex_stress(index)\n",
    "\n",
    "    Stensor_c = vect2dev_tensor(S_c)\n",
    "    return g.T * Stensor_c * g"
   ]
  },
  {
   "cell_type": "code",
   "execution_count": 6,
   "metadata": {
    "collapsed": true
   },
   "outputs": [],
   "source": [
    "def get_taylor(phi1,Phi,phi2):\n",
    "    Bunge = np.array((phi1, Phi, phi2)).T\n",
    "    \n",
    "    ###################################\n",
    "    de = np.array([[-.5,  0,   0],\n",
    "                  [0, -.5,  0],\n",
    "                  [0,  0,  1]])\n",
    "    ###################################\n",
    "    \n",
    "    m, q = bcrossn()\n",
    "#     Nc = len(Euler1)\n",
    "    S = np.zeros((3,3))\n",
    "    Sdotde = 0\n",
    "    dedotde = 0\n",
    "    eVM = 0\n",
    "#     angle = np.zeros((Nc*Nc,1))\n",
    "#     a = 11\n",
    "    g = get_R_o(Bunge).T # I hope this works right, can't test it yet\n",
    "#     print \"Euler Angles (radians): \", Bunge[a], \"\\n\"\n",
    "#     print \"RMatOfBunge/R_o: \"\n",
    "#     print g\n",
    "\n",
    "    # print de\n",
    "    de_c = g * de * g.T\n",
    "    # print de_c\n",
    "\n",
    "    Sc = BHmodel(de_c, g, 0)\n",
    "    # print Sc\n",
    "    Sdotde = 0\n",
    "    dedotde = 0\n",
    "    eVM = 0\n",
    "\n",
    "    for k in range(3):\n",
    "        for l in range(3):\n",
    "            Sdotde += Sc[k,l] * de[k,l]\n",
    "            dedotde += de[k,l] * de[k,l]\n",
    "\n",
    "    eVM = sqrt((2.0 / 3.0) * dedotde)\n",
    "    M = Sdotde / eVM\n",
    "    return M"
   ]
  },
  {
   "cell_type": "code",
   "execution_count": 7,
   "metadata": {
    "collapsed": true
   },
   "outputs": [],
   "source": [
    "# import sqlite3\n",
    "\n",
    "# def save_taylor(dbpath):\n",
    "#     conn = sqlite3.connect(dbpath)\n",
    "#     natee=0\n",
    "#     cursor = conn.execute('select distinct short_grain_id,phi1,Phi,phi2 from points;')\n",
    "#     for row in cursor:\n",
    "#         short_grain_id = row[0]\n",
    "#         phi1 = row[1]\n",
    "#         Phi = row[2]\n",
    "#         phi2 = row[3]\n",
    "#         val = get_taylor(phi1, Phi, phi2)\n",
    "#         if natee < 10:\n",
    "#             print val,phi1,Phi,phi2\n",
    "#         natee += 1\n",
    "#     conn.close()"
   ]
  },
  {
   "cell_type": "code",
   "execution_count": 8,
   "metadata": {
    "collapsed": true
   },
   "outputs": [],
   "source": [
    "import sqlite3\n",
    "\n",
    "def alter_tf(dbpath):\n",
    "    conn = sqlite3.connect(dbpath)\n",
    "    for r in range(6,43,2):#(6,61,3):\n",
    "        for i in range(1,11):\n",
    "            conn.execute('alter table data_%d'%r+' add column tf_%d float'%i)\n",
    "        \n",
    "        for i in range(1,11):\n",
    "            for j in range(i + 1, 11):\n",
    "                conn.execute('alter table data_%d'%r+' add column tf_%dto%d float'%(i,j))\n",
    "    conn.close()\n",
    "    print 'done'"
   ]
  },
  {
   "cell_type": "code",
   "execution_count": 9,
   "metadata": {
    "collapsed": false
   },
   "outputs": [],
   "source": [
    "import sqlite3\n",
    "import math\n",
    "\n",
    "def save_tf_data(dbpath):\n",
    "\n",
    "    conn = sqlite3.connect(dbpath)\n",
    "#     x=0\n",
    "    for r in range(6,43,2):#(6,61,3):\n",
    "    \n",
    "        cursor = conn.execute('select crack_id, arr_index, num_xtal, ' +\n",
    "            'phi1_1, phi1_2, phi1_3, phi1_4, phi1_5, phi1_6, phi1_7, phi1_8, phi1_9, phi1_10, ' +\n",
    "            'Phi_1, Phi_2, Phi_3, Phi_4, Phi_5, Phi_6, Phi_7, Phi_8, Phi_9, Phi_10, ' +\n",
    "            'phi2_1, phi2_2, phi2_3, phi2_4, phi2_5, phi2_6, phi2_7, phi2_8, phi2_9, phi2_10 from data_%d'%r)\n",
    "\n",
    "        for row in cursor:\n",
    "            crack_id=row[0]\n",
    "            arr_index=row[1]\n",
    "            num_xtal=row[2]\n",
    "            \n",
    "            phi1s = []\n",
    "            Phis = []\n",
    "            phi2s = []\n",
    "            \n",
    "            for i in range(3,13):\n",
    "                phi1s.append(row[i])\n",
    "                Phis.append(row[i+10])\n",
    "                phi2s.append(row[i+20])\n",
    "            \n",
    "            if num_xtal > 1:\n",
    "                if num_xtal > 10: # We don't care about more than 10 grains\n",
    "                    num_xtal = 10\n",
    "                \n",
    "                tfs = []\n",
    "                for i in range(num_xtal):\n",
    "                    tfs.append(get_taylor(phi1s[i],Phis[i],phi2s[i]))\n",
    "                    conn.execute('update data_%d set tf_%d=%f where crack_id=%d and arr_index=%d' \\\n",
    "                                %(r,i+1,tfs[i],crack_id,arr_index))\n",
    "                \n",
    "                for i in range(num_xtal):\n",
    "                    for j in range(i + 1, num_xtal):\n",
    "                        tf_diff = abs(tfs[i] - tfs[j])\n",
    "                        conn.execute('update data_%d set tf_%dto%d=%f where crack_id=%d and arr_index=%d' \\\n",
    "                                 %(r,i+1,j+1,tf_diff,crack_id,arr_index))\n",
    "#             x+=1\n",
    "        print r\n",
    "    conn.commit()\n",
    "    conn.close()\n",
    "    print 'done'"
   ]
  },
  {
   "cell_type": "code",
   "execution_count": 10,
   "metadata": {
    "collapsed": false
   },
   "outputs": [],
   "source": [
    "# Sets misorientation and taylor factor to null if the grains don't touch in the neighborhood. Touching diagonally \n",
    "# does not count.\n",
    "def delete_if_no_boundary(dbpath):\n",
    "    conn = sqlite3.connect(dbpath)\n",
    "    x=0\n",
    "    for r in range(6,43,2):\n",
    "        cursor = conn.execute('select crack_id,arr_index,num_xtal,grain_id_1,grain_id_2,grain_id_3,grain_id_4,' +\n",
    "                             'grain_id_5,grain_id_6,grain_id_7,grain_id_8,grain_id_9,grain_id_10 from data_%d'%r)\n",
    "        for row in cursor:\n",
    "            crack_id = row[0]\n",
    "            arr_index = row[1]\n",
    "            num_xtal = row[2]\n",
    "            grains = []\n",
    "            if num_xtal > 10:\n",
    "                num_xtal=10\n",
    "            for i in range(num_xtal):\n",
    "                grains.append(row[i + 3])\n",
    "            \n",
    "            for i in range(num_xtal):\n",
    "                    for j in range(i + 1, num_xtal):\n",
    "                        cursor2 = conn.execute('select * from boundaries where grain_id1=%d and grain_id2=%d' \\\n",
    "                                               %(grains[i],grains[j]))\n",
    "                        exists = False\n",
    "                        for row2 in cursor2:\n",
    "                            exists = True\n",
    "\n",
    "                        if exists is False:\n",
    "                            conn.execute('update data_%r set mis_%dto%d=null,tf_%dto%d=null where'%(r,i+1,j+1,i+1,j+1)+\n",
    "                                         ' crack_id=%d and arr_index=%d'%(crack_id,arr_index))\n",
    "    conn.commit()\n",
    "    conn.close()\n",
    "    print 'done'"
   ]
  },
  {
   "cell_type": "code",
   "execution_count": 191,
   "metadata": {
    "collapsed": false
   },
   "outputs": [],
   "source": [
    "# alter_tf('../../big-data-smaller-r/base.db')"
   ]
  },
  {
   "cell_type": "code",
   "execution_count": 192,
   "metadata": {
    "collapsed": false
   },
   "outputs": [],
   "source": [
    "# save_tf_data('../../big-data-smaller-r/base.db')"
   ]
  },
  {
   "cell_type": "code",
   "execution_count": 11,
   "metadata": {
    "collapsed": false
   },
   "outputs": [
    {
     "name": "stdout",
     "output_type": "stream",
     "text": [
      "6\n",
      "8\n",
      "10\n",
      "12\n",
      "14\n",
      "16\n",
      "18\n",
      "20\n",
      "22\n",
      "24\n",
      "26\n",
      "28\n",
      "30\n",
      "32\n",
      "34\n",
      "36\n",
      "38\n",
      "40\n",
      "42\n"
     ]
    }
   ],
   "source": [
    "# delete_if_no_boundary('../../big-data-smaller-r/base.db')"
   ]
  },
  {
   "cell_type": "code",
   "execution_count": null,
   "metadata": {
    "collapsed": false
   },
   "outputs": [],
   "source": []
  }
 ],
 "metadata": {
  "kernelspec": {
   "display_name": "Python 2",
   "language": "python",
   "name": "python2"
  },
  "language_info": {
   "codemirror_mode": {
    "name": "ipython",
    "version": 2
   },
   "file_extension": ".py",
   "mimetype": "text/x-python",
   "name": "python",
   "nbconvert_exporter": "python",
   "pygments_lexer": "ipython2",
   "version": "2.7.11"
  }
 },
 "nbformat": 4,
 "nbformat_minor": 0
}
