{
 "cells": [
  {
   "cell_type": "code",
   "execution_count": 21,
   "metadata": {
    "collapsed": false
   },
   "outputs": [],
   "source": [
    "import sqlite3\n",
    "from math import pi\n",
    "\n",
    "def save_output(fname, dbpath):\n",
    "    i=0\n",
    "    my_data = {}\n",
    "    with (open(fname,'r')) as f:\n",
    "        for line in f:\n",
    "            if i > 0:\n",
    "                tokens = line.split(',')\n",
    "                crack_id = int(tokens[0])\n",
    "                theta = float(tokens[1])\n",
    "                x = float(tokens[2])\n",
    "                y = float(tokens[3])\n",
    "                z = float(tokens[4])\n",
    "                dadN2D = float(tokens[5])\n",
    "                dadN3Dline = float(tokens[6])\n",
    "                dadNpath = float(tokens[7].rstrip())\n",
    "                if crack_id in my_data:\n",
    "                    my_data[crack_id].append((theta,x,y,z,dadN2D,dadN3Dline,dadNpath))\n",
    "                else:\n",
    "                    my_data[crack_id] = []\n",
    "                    my_data[crack_id].append((theta,x,y,z,dadN2D,dadN3Dline,dadNpath))\n",
    "            i+=1\n",
    "\n",
    "    conn = sqlite3.connect(dbpath)\n",
    "    for r in range(6,43,2):#(6,61,3):\n",
    "        conn.execute('alter table data_%d'%r+' add column dadN2D float')\n",
    "        conn.execute('alter table data_%d'%r+' add column dadN3Dline float')\n",
    "        conn.execute('alter table data_%d'%r+' add column dadNpath float')\n",
    "\n",
    "        cursor = conn.execute('select crack_id, arr_index, theta from data_%d order by crack_id asc, theta desc'%r)\n",
    "        for row in cursor:\n",
    "            crack_id = row[0]\n",
    "            if crack_id < 9 and crack_id > 0:\n",
    "                arr_index = row[1]\n",
    "                theta_node_ = row[2]\n",
    "                this_crack = my_data[crack_id]\n",
    "                index = 0\n",
    "\n",
    "                # Don't flip theta, I checked it in Paraview\n",
    "                theta_node = theta_node_ \n",
    "\n",
    "                while index < len(this_crack) and this_crack[index][0] <= theta_node:\n",
    "                    before_theta = this_crack[index][0]\n",
    "                    before_dadN2D = this_crack[index][4]\n",
    "                    before_dadN3Dline = this_crack[index][5]\n",
    "                    before_dadNpath = this_crack[index][6]\n",
    "                    index += 1\n",
    "\n",
    "                if theta_node > 0 and index < len(this_crack):\n",
    "                    after_theta = this_crack[index][0]\n",
    "                    after_dadN2D = this_crack[index][4]\n",
    "                    after_dadN3Dline = this_crack[index][5]\n",
    "                    after_dadNpath = this_crack[index][6]\n",
    "                else:\n",
    "                    after_theta = before_theta\n",
    "                    after_dadN2D = before_dadN2D\n",
    "                    after_dadN3Dline = before_dadN3Dline\n",
    "                    after_dadNpath = before_dadNpath\n",
    "\n",
    "                final_theta = (before_theta + after_theta) / 2.0\n",
    "                final_dadN2D = (before_dadN2D + after_dadN2D) / 2.0\n",
    "                final_dadN3Dline = (before_dadN3Dline + after_dadN3Dline) / 2.0\n",
    "                final_dadNpath = (before_dadNpath + after_dadNpath) / 2.0\n",
    "\n",
    "                conn.execute('update data_%d set dadN2D=%f,dadN3Dline=%f,dadNpath=%f where crack_id=%d and arr_index=%d' \\\n",
    "                             %(r,final_dadN2D,final_dadN3Dline,final_dadNpath,crack_id,arr_index))\n",
    "    conn.commit()\n",
    "    conn.close()\n",
    "    print 'done'"
   ]
  },
  {
   "cell_type": "code",
   "execution_count": 20,
   "metadata": {
    "collapsed": false
   },
   "outputs": [
    {
     "name": "stdout",
     "output_type": "stream",
     "text": [
      "done\n"
     ]
    }
   ],
   "source": [
    "save_output('../data-smaller-r/crack_front_growth_rates_1500ppcf.csv', '../../big-data-smaller-r/base.db')"
   ]
  },
  {
   "cell_type": "code",
   "execution_count": 6,
   "metadata": {
    "collapsed": false
   },
   "outputs": [
    {
     "data": {
      "text/plain": [
       "2.6639530000000002"
      ]
     },
     "execution_count": 6,
     "metadata": {},
     "output_type": "execute_result"
    }
   ],
   "source": [
    "3.141592 - 0.477639"
   ]
  },
  {
   "cell_type": "code",
   "execution_count": 43,
   "metadata": {
    "collapsed": true
   },
   "outputs": [],
   "source": [
    "conn.close()"
   ]
  },
  {
   "cell_type": "code",
   "execution_count": null,
   "metadata": {
    "collapsed": true
   },
   "outputs": [],
   "source": []
  }
 ],
 "metadata": {
  "kernelspec": {
   "display_name": "Python 2",
   "language": "python",
   "name": "python2"
  },
  "language_info": {
   "codemirror_mode": {
    "name": "ipython",
    "version": 2
   },
   "file_extension": ".py",
   "mimetype": "text/x-python",
   "name": "python",
   "nbconvert_exporter": "python",
   "pygments_lexer": "ipython2",
   "version": "2.7.11"
  }
 },
 "nbformat": 4,
 "nbformat_minor": 0
}
