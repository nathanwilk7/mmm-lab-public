{
 "cells": [
  {
   "cell_type": "code",
   "execution_count": 49,
   "metadata": {
    "collapsed": false
   },
   "outputs": [],
   "source": [
    "import sqlite3\n",
    "\n",
    "def save_all_dbs(dbpath, fname):\n",
    "    conn = sqlite3.connect(dbpath)\n",
    "    header = 'crack_id, arr_index, theta, x, y, z, num_xtal, grain_id_1, phi1_1, Phi_1, phi2_1, weight_1, grain_id_2, '\\\n",
    "    +'phi1_2, '\\\n",
    "    +'Phi_2, phi2_2, weight_2, grain_id_3, phi1_3, Phi_3, phi2_3, weight_3, grain_id_4, phi1_4, Phi_4, phi2_4, '\\\n",
    "    +'weight_4, '\\\n",
    "    +'grain_id_5, phi1_5, Phi_5, phi2_5, weight_5, grain_id_6, phi1_6, Phi_6, phi2_6, weight_6, grain_id_7, phi1_7, '\\\n",
    "    +'Phi_7, '\\\n",
    "    +'phi2_7, weight_7, grain_id_8, phi1_8, Phi_8, phi2_8, weight_8, grain_id_9, phi1_9, Phi_9, phi2_9, weight_9, '\\\n",
    "    +'grain_id_10, '\\\n",
    "    +'phi1_10, Phi_10, phi2_10, weight_10, mis_1to2, mis_1to3, mis_1to4, mis_1to5, mis_1to6, mis_1to7, mis_1to8, '\\\n",
    "    +'mis_1to9, '\\\n",
    "    +'mis_1to10, mis_2to3, mis_2to4, mis_2to5, mis_2to6, mis_2to7, mis_2to8, mis_2to9, mis_2to10, mis_3to4, '\\\n",
    "    +'mis_3to5, '\\\n",
    "    +'mis_3to6, mis_3to7, mis_3to8, mis_3to9, mis_3to10, mis_4to5, mis_4to6, mis_4to7, mis_4to8, mis_4to9, '\\\n",
    "    +'mis_4to10, '\\\n",
    "    +'mis_5to6, mis_5to7, mis_5to8, mis_5to9, mis_5to10, mis_6to7, mis_6to8, mis_6to9, mis_6to10, mis_7to8, '\\\n",
    "    +'mis_7to9, '\\\n",
    "    +'mis_7to10, mis_8to9, mis_8to10, mis_9to10, dadN2D, dadN3Dline, dadNpath, tf_1, tf_2, tf_3, tf_4, tf_5, '\\\n",
    "    +'tf_6, tf_7, '\\\n",
    "    +'tf_8, tf_9, tf_10, tf_1to2, tf_1to3, tf_1to4, tf_1to5, tf_1to6, tf_1to7, tf_1to8, tf_1to9, tf_1to10, '\\\n",
    "    +'tf_2to3, tf_2to4, '\\\n",
    "    +'tf_2to5, tf_2to6, tf_2to7, tf_2to8, tf_2to9, tf_2to10, tf_3to4, tf_3to5, tf_3to6, tf_3to7, tf_3to8, '\\\n",
    "    +'tf_3to9, tf_3to10, '\\\n",
    "    +'tf_4to5, tf_4to6, tf_4to7, tf_4to8, tf_4to9, tf_4to10, tf_5to6, tf_5to7, tf_5to8, tf_5to9, tf_5to10, '\\\n",
    "    +'tf_6to7, tf_6to8, '\\\n",
    "    +'tf_6to9, tf_6to10, tf_7to8, tf_7to9, tf_7to10, tf_8to9, tf_8to10, tf_9to10\\n'\n",
    "    for r in range(6,43,2):\n",
    "        with open(fname + '_%d.csv'%r, 'w') as f:\n",
    "            f.write(header)\n",
    "            cursor = conn.execute('select * from data_%d where crack_id<9'%r)\n",
    "            for row in cursor:\n",
    "                els = []\n",
    "                for i in range(len(row)):\n",
    "                    el = row[i]\n",
    "                    if el == None:\n",
    "                        el = ''\n",
    "                    els.append(el)\n",
    "                i = 0\n",
    "                for el in els:\n",
    "                    i += 1\n",
    "                    if i < len(els):\n",
    "                        f.write(str(el) + ', ')\n",
    "                    else:\n",
    "                        f.write(str(el)+'\\n')\n",
    "    conn.close()"
   ]
  },
  {
   "cell_type": "code",
   "execution_count": 50,
   "metadata": {
    "collapsed": false
   },
   "outputs": [],
   "source": [
    "save_all_dbs('../../big-data-smaller-r/base.db', '../data-smaller-r/output/r')"
   ]
  },
  {
   "cell_type": "code",
   "execution_count": null,
   "metadata": {
    "collapsed": true
   },
   "outputs": [],
   "source": []
  }
 ],
 "metadata": {
  "kernelspec": {
   "display_name": "Python 2",
   "language": "python",
   "name": "python2"
  },
  "language_info": {
   "codemirror_mode": {
    "name": "ipython",
    "version": 2
   },
   "file_extension": ".py",
   "mimetype": "text/x-python",
   "name": "python",
   "nbconvert_exporter": "python",
   "pygments_lexer": "ipython2",
   "version": "2.7.11"
  }
 },
 "nbformat": 4,
 "nbformat_minor": 0
}
