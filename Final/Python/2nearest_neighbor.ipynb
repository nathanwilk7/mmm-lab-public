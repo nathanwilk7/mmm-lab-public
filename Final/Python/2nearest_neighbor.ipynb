{
 "cells": [
  {
   "cell_type": "code",
   "execution_count": 2,
   "metadata": {
    "collapsed": true
   },
   "outputs": [],
   "source": [
    "# Loads the node ID's for each crack front and returns them as a list within a list...listception\n",
    "def create_crack_fronts(fname):\n",
    "    crack_fronts = []\n",
    "    node_ids = []\n",
    "    with open(fname, 'r') as f:\n",
    "        for line in f:\n",
    "            if 'Crack' in line:\n",
    "                crack_fronts.append(list(node_ids))\n",
    "                node_ids = []\n",
    "            elif 'Number' not in line:\n",
    "                node_ids.append(int(line))\n",
    "    if (len(node_ids) != 0):\n",
    "        crack_fronts.append(list(node_ids))\n",
    "    return crack_fronts;"
   ]
  },
  {
   "cell_type": "code",
   "execution_count": 3,
   "metadata": {
    "collapsed": true
   },
   "outputs": [],
   "source": [
    "# Creates a KD Tree for the points in the file, use the centers-grain.csv file, \n",
    "# this method ignores the first line header. This returns the KD Tree and a list of the grain ids\n",
    "\n",
    "from scipy import spatial\n",
    "\n",
    "def create_tree(fname):\n",
    "    x_s = []\n",
    "    y_s = []\n",
    "    z_s = []\n",
    "    ids = []\n",
    "    i = 0\n",
    "    \n",
    "    with open(fname, 'r') as f:\n",
    "        for line in f:\n",
    "            if i == 0:\n",
    "                i += 1\n",
    "            else:\n",
    "                tokens = line.split(',')\n",
    "                x_s.append(float(tokens[0]))\n",
    "                y_s.append(float(tokens[1]))\n",
    "                z_s.append(float(tokens[2]))\n",
    "                ids.append(int(tokens[3].rstrip()))\n",
    "\n",
    "    tree = spatial.KDTree(zip(x_s,y_s,z_s))\n",
    "    return tree, ids"
   ]
  },
  {
   "cell_type": "code",
   "execution_count": 38,
   "metadata": {
    "collapsed": true
   },
   "outputs": [],
   "source": [
    "# Read all nodes into a temp DB so that we can pull them out by ID later.\n",
    "# Nodes file format is ID,x,y,z\n",
    "\n",
    "import sqlite3\n",
    "\n",
    "def create_nodes_db(fname, dbpath):\n",
    "    for iter_ in range(12):\n",
    "        increment = 1500000\n",
    "        start = (increment * iter_)\n",
    "        end = start + increment\n",
    "        i = 0\n",
    "        conn = sqlite3.connect(dbpath)\n",
    "\n",
    "        if iter_ == 0:\n",
    "            conn.execute(\"create table nodes (id int, x float, y float, z float);\")\n",
    "\n",
    "        with open(fname, 'r') as f:\n",
    "            for line in f:\n",
    "                if i >= start and i < end:\n",
    "                    tokens = line.split(' ')\n",
    "                    conn.execute(\"insert into nodes values (\" + tokens[0] + ',' +  tokens[1] + ',' + tokens[2] + ',' + \n",
    "                                 tokens[3].rstrip() + \");\")\n",
    "                i += 1\n",
    "\n",
    "        conn.commit()\n",
    "        conn.close()\n",
    "        progress = iter_ / 12.0\n",
    "        print progress\n",
    "    print '1.0\\n\\nDONE!'"
   ]
  },
  {
   "cell_type": "code",
   "execution_count": 33,
   "metadata": {
    "collapsed": true
   },
   "outputs": [],
   "source": [
    "# Gets the x,y,z for the specified node ID, fname is for the DB, crack_front is the table that has the node IDs\n",
    "def get_node_coors_from_id_setup(node_id, dbpath):\n",
    "    conn = sqlite3.connect(dbpath)\n",
    "    cursor = conn.execute(\"SELECT distinct x, y, z  from nodes where id = \" + str(node_id))\n",
    "    for row in cursor:\n",
    "        x = row[0]\n",
    "        y =  row[1]\n",
    "        z = row[2]\n",
    "    conn.close()\n",
    "    return x, y, z"
   ]
  },
  {
   "cell_type": "code",
   "execution_count": 44,
   "metadata": {
    "collapsed": true
   },
   "outputs": [],
   "source": [
    "# Read crack front points into DB\n",
    "def crack_front_db(crack_fronts, dbpath):\n",
    "\n",
    "    conn = sqlite3.connect(dbpath)\n",
    "\n",
    "    conn.execute(\"create table crack_front (node_id int, crack_id int, x float, y float, z float);\")\n",
    "    \n",
    "    for i in range(1,10):\n",
    "        for j in range(len(crack_fronts[i])):\n",
    "            x, y, z = get_node_coors_from_id_setup(crack_fronts[i][j], dbpath)\n",
    "            conn.execute(\"insert into crack_front values (\" + str(crack_fronts[i][j]) + ',' + str(i) + ',' + str(x) + ',' + \n",
    "                         str(y) + ',' + str(z) + \");\")\n",
    "        print i / 10.0\n",
    "\n",
    "    conn.commit()\n",
    "    conn.close()\n",
    "\n",
    "    print 'DONE!'"
   ]
  },
  {
   "cell_type": "code",
   "execution_count": 8,
   "metadata": {
    "collapsed": true
   },
   "outputs": [],
   "source": [
    "# Read euler angles into near.db\n",
    "\n",
    "import sqlite3\n",
    "\n",
    "def save_euler_angles(dbpath, fname):\n",
    "    conn = sqlite3.connect(dbpath)\n",
    "\n",
    "    conn.execute('create table euler_angles(grain_id primary key, phi1 float, Phi float, phi2 float);')\n",
    "    \n",
    "    x = 0\n",
    "    \n",
    "    with open(fname, 'r') as f:\n",
    "        for line in f:\n",
    "            if x > 0:\n",
    "                tokens = line.split(' ')\n",
    "                conn.execute(\"INSERT INTO euler_angles VALUES (\" + tokens[0] + ',' +  tokens[30] + ',' + tokens[32] + ',' + \n",
    "                                 tokens[34].rstrip() + \");\")\n",
    "            else:\n",
    "                x = 1\n",
    "\n",
    "    conn.commit()\n",
    "    conn.close()\n",
    "    print 'done'"
   ]
  },
  {
   "cell_type": "code",
   "execution_count": 17,
   "metadata": {
    "collapsed": true
   },
   "outputs": [],
   "source": [
    "# Create base.db crack_nodes from near.db crack_front\n",
    "\n",
    "def base_crack_nodes(base_dbpath, near_dbpath):\n",
    "    \n",
    "    base = sqlite3.connect(base_dbpath)\n",
    "    \n",
    "    base.execute('create table crack_nodes(crack_id int, arr_index int, node_order int, theta float, node_id int, ' +\n",
    "                'x float, y float, z float, primary key(crack_id, arr_index));')\n",
    "\n",
    "    near = sqlite3.connect(near_dbpath)\n",
    "    \n",
    "#     i = 9 # Change to 1 - 9\n",
    "    for i in range(1,10):\n",
    "        for j in range(len(crack_fronts[i])):\n",
    "            cursor = near.execute('select * from crack_front where node_id = ' + str(crack_fronts[i][j]) + \n",
    "                                  ' and crack_id = ' + str(i))\n",
    "            for row in cursor:\n",
    "                node_id = row[0] # node_id\n",
    "                crack_id = row[1] # crack_id\n",
    "                x =  row[2] # x\n",
    "                y = row[3] # y\n",
    "                z = row[4] # z\n",
    "            base.execute(\"insert into crack_nodes (crack_id, arr_index, node_id, x, y, z) values (\" \n",
    "                         + str(crack_id) + ',' + str(j) + ',' + str(crack_fronts[i][j]) + ',' + \n",
    "                         str(x) + ',' + str(y) + ',' + str(z) + \");\")\n",
    "\n",
    "    base.commit()\n",
    "    base.close()\n",
    "    near.close()\n",
    "    print 'done'"
   ]
  },
  {
   "cell_type": "code",
   "execution_count": 21,
   "metadata": {
    "collapsed": true
   },
   "outputs": [],
   "source": [
    "# Create base.db points from center-grains file and get euler angles from near.db\n",
    "def create_base_points(base_dbpath, near_dbpath, fname):\n",
    "    \n",
    "    base = sqlite3.connect(base_dbpath)\n",
    "\n",
    "    base.execute('create table points(grain_id int, x float, y float, z float, phi1 float, Phi float, phi2 float, ' + \n",
    "                'short_grain_id int, primary key(grain_id, x, y, z));')\n",
    "    x = 0\n",
    "    with open(fname, 'r') as f:\n",
    "        for line in f:\n",
    "            if x > 0:\n",
    "                tokens = line.split(',')\n",
    "                base.execute('insert into points (grain_id, x, y, z) values (' + str(tokens[3].rstrip()) + ',' + str(tokens[0]) + ',' + \n",
    "                             str(tokens[1]) + ',' + str(tokens[2]) + ')')\n",
    "            else:\n",
    "                x = 1\n",
    "\n",
    "    base.commit()\n",
    "\n",
    "    near = sqlite3.connect(near_dbpath)\n",
    "\n",
    "    cursor = near.execute('select * from euler_angles')\n",
    "\n",
    "    for row in cursor:\n",
    "        grain_id = row[0]\n",
    "        phi1 = row[1]\n",
    "        Phi =  row[2]\n",
    "        phi2 = row[3]\n",
    "        base.execute('update points set phi1 = ' + str(phi1) + ',' + 'Phi = ' + str(Phi) + ',' + 'phi2 = ' + str(phi2) + \n",
    "                     ' where grain_id = ' + str(grain_id))\n",
    "\n",
    "    base.commit()\n",
    "    base.close()\n",
    "    near.close()\n",
    "    print 'done'"
   ]
  },
  {
   "cell_type": "code",
   "execution_count": 24,
   "metadata": {
    "collapsed": false
   },
   "outputs": [],
   "source": [
    "# Figure out which grains are touching and save them\n",
    "\n",
    "def save_grain_boundaries(dbpath, fname):\n",
    "\n",
    "    conn = sqlite3.connect(dbpath)\n",
    "\n",
    "    x_s = []\n",
    "    cursor = conn.execute('select distinct x from points;')\n",
    "    for row in cursor:\n",
    "        x_s.append(row[0])\n",
    "\n",
    "    y_s = []\n",
    "    cursor = conn.execute('select distinct y from points;')\n",
    "    for row in cursor:\n",
    "        y_s.append(row[0])\n",
    "\n",
    "    z_s = []\n",
    "    cursor = conn.execute('select distinct z from points;')\n",
    "    for row in cursor:\n",
    "        z_s.append(row[0])\n",
    "\n",
    "    conn.close()\n",
    "\n",
    "    ids = []\n",
    "\n",
    "    with open(fname, 'r') as f:\n",
    "        x = 0\n",
    "        for line in f:\n",
    "            if x > 0:\n",
    "                tokens = line.split(',')\n",
    "                ids.append(int(tokens[3].rstrip()))\n",
    "            else:\n",
    "                x = 1\n",
    "\n",
    "    i = 0\n",
    "    distance = 6\n",
    "    num_x = 67\n",
    "    num_xy = 8375\n",
    "    x_max = 396\n",
    "    y_max = 744\n",
    "    z_max = 594\n",
    "    bordering = {}\n",
    "\n",
    "    for z in z_s:\n",
    "        for y in y_s:\n",
    "            for x in x_s:\n",
    "                if x >= distance:\n",
    "                    x_neg = x - distance\n",
    "                else:\n",
    "                    x_neg = x\n",
    "                if x <= x_max - distance:\n",
    "                    x_pos = x + distance\n",
    "                else:\n",
    "                    x_pos = x\n",
    "\n",
    "                if y >= distance:\n",
    "                    y_neg = y - distance\n",
    "                else:\n",
    "                    y_neg = y\n",
    "                if y <= y_max - distance:\n",
    "                    y_pos = y + distance\n",
    "                else:\n",
    "                    y_pos = y\n",
    "\n",
    "                if z >= distance:\n",
    "                    z_neg = z - distance\n",
    "                else:\n",
    "                    z_neg = z\n",
    "                if z <= z_max - distance:\n",
    "                    z_pos = z + distance\n",
    "                else:\n",
    "                    z_pos = z\n",
    "\n",
    "                center_id = ids[int(int(x) / 6 + ((int(y) / 6) * 67) + ((int(z) * 8375) / 6))] % 10000\n",
    "                x_neg_id = ids[int(int(x_neg) / 6 + ((int(y) / 6) * 67) + ((int(z) * 8375) / 6))] % 10000\n",
    "                x_pos_id = ids[int(int(x_pos) / 6 + ((int(y) / 6) * 67) + ((int(z) * 8375) / 6))] % 10000\n",
    "                y_neg_id = ids[int(int(x) / 6 + ((int(y_neg) / 6) * 67) + ((int(z) * 8375) / 6))] % 10000\n",
    "                y_pos_id = ids[int(int(x) / 6 + ((int(y_pos) / 6) * 67) + ((int(z) * 8375) / 6))] % 10000\n",
    "                z_neg_id = ids[int(int(x) / 6 + ((int(y) / 6) * 67) + ((int(z_neg) * 8375) / 6))] % 10000\n",
    "                z_pos_id = ids[int(int(x) / 6 + ((int(y) / 6) * 67) + ((int(z_pos) * 8375) / 6))] % 10000\n",
    "\n",
    "                touching = []\n",
    "                if x_neg_id not in touching and x_neg_id != center_id:\n",
    "                    touching.append(x_neg_id)\n",
    "                if x_pos_id not in touching and x_pos_id != center_id:\n",
    "                    touching.append(x_pos_id)\n",
    "                if y_neg_id not in touching and y_neg_id != center_id:\n",
    "                    touching.append(y_neg_id)\n",
    "                if y_pos_id not in touching and y_pos_id != center_id:\n",
    "                    touching.append(y_pos_id)\n",
    "                if z_neg_id not in touching and z_neg_id != center_id:\n",
    "                    touching.append(z_neg_id)\n",
    "                if z_pos_id not in touching and z_pos_id != center_id:\n",
    "                    touching.append(z_pos_id)\n",
    "\n",
    "                temp = bordering.get(center_id, [])\n",
    "                for touching_id in touching:\n",
    "                    if touching_id not in temp:\n",
    "                        temp.append(touching_id)\n",
    "                bordering[center_id] = temp\n",
    "\n",
    "    conn = sqlite3.connect(dbpath)\n",
    "\n",
    "    conn.execute('create table boundaries(grain_id1 int,grain_id2 int,misor_val float,primary key(grain_id1, grain_id2), '+\n",
    "                'foreign key (grain_id1) references points(grain_id),foreign key(grain_id2) references points(grain_id));')\n",
    "    \n",
    "    for center_ in bordering:\n",
    "        for touching_ in bordering[center_]:\n",
    "            conn.execute('insert into boundaries (grain_id1, grain_id2) values (%d, %d)' % (center_, touching_))\n",
    "    conn.commit()\n",
    "    conn.close\n",
    "    print 'done'"
   ]
  },
  {
   "cell_type": "code",
   "execution_count": 26,
   "metadata": {
    "collapsed": true
   },
   "outputs": [],
   "source": [
    "def save_short_grain_id(dbpath):\n",
    "\n",
    "    conn = sqlite3.connect(dbpath)\n",
    "\n",
    "    cursor = conn.execute('select distinct grain_id from points;')\n",
    "    for row in cursor:\n",
    "        new_id = row[0] % 10000\n",
    "        conn.execute('update points set short_grain_id=%d where grain_id=%d' % (new_id, row[0]))\n",
    "    conn.commit()\n",
    "    conn.close()\n",
    "    print 'done'"
   ]
  },
  {
   "cell_type": "code",
   "execution_count": 32,
   "metadata": {
    "collapsed": false
   },
   "outputs": [],
   "source": [
    "# Put the nodes on each crack front in order using triangles\n",
    "import math\n",
    "\n",
    "def order_nodes(dbpath):\n",
    "\n",
    "    conn = sqlite3.connect(dbpath)\n",
    "\n",
    "    for crack_id in range(1,10):\n",
    "        cursor = conn.execute('select * from crack_nodes where crack_id = ' + str(crack_id))\n",
    "        order = []\n",
    "\n",
    "        for row in cursor:\n",
    "            arr_index = row[1]\n",
    "            node_id = row[4]\n",
    "            x = row[5]\n",
    "            y =  row[6]\n",
    "            z = row[7]\n",
    "            y_ = y - 372.0\n",
    "            order.append((arr_index, math.pi - math.atan2(x, y_), node_id, x, y, z))\n",
    "        order_sorted = sorted(order, key=lambda tup: tup[1])\n",
    "        for i in range(len(order_sorted)):\n",
    "            conn.execute('update crack_nodes set theta='+str(order_sorted[i][1])+',node_order='+str(i)+\n",
    "                         ' where crack_id='+str(crack_id)+' and arr_index='+str(order_sorted[i][0]))\n",
    "\n",
    "    conn.commit()\n",
    "    conn.close()\n",
    "    print 'done'"
   ]
  },
  {
   "cell_type": "code",
   "execution_count": 5,
   "metadata": {
    "collapsed": true
   },
   "outputs": [],
   "source": [
    "# Return the nearest neighbors in the KD Tree to the x,y,z coordinates within the radius. The ids are used to pull out\n",
    "# the grain id for the neighbors\n",
    "def nearest_neighbor_ids_coors(tree, x, y, z, radius, ids):\n",
    "    neighbors = tree.query_ball_point((x,y,z), radius)\n",
    "    grain_ids_coors = []\n",
    "    for i in neighbors:\n",
    "        grain_ids_coors.append((ids[int((tree.data[i][0]/6)+(67*(tree.data[i][1]/6))+(8375*(tree.data[i][2])/6))], \n",
    "                          int(tree.data[i][0]), int(tree.data[i][1]), int(tree.data[i][2])))\n",
    "\n",
    "    return grain_ids_coors"
   ]
  },
  {
   "cell_type": "code",
   "execution_count": 26,
   "metadata": {
    "collapsed": false
   },
   "outputs": [],
   "source": [
    "# Create nearest neighbor DB's and read points into them using KD Tree\n",
    "\n",
    "import sqlite3\n",
    "\n",
    "def create_neighbors(tree, ids, dbpath):\n",
    "    k=0\n",
    "    for mod in range(2,21):\n",
    "        r = mod * 3 #- mod + 2 # Subtract mod to avoid overlap between neighborhoods, add 2 so r=6 still exists\n",
    "        dbname = 'neighbor_%d' % (r)\n",
    "\n",
    "        conn = sqlite3.connect(dbpath)\n",
    "\n",
    "        conn.execute(\"create table %s (crack_id int,arr_index int,grain_id int,x float,y float,z float, \\\n",
    "                     primary key (crack_id, arr_index,grain_id, x, y, z),foreign key (crack_id, arr_index) references \\\n",
    "                      crack_nodes(crack_id, arr_index),foreign key (grain_id, x, y, z) references \\\n",
    "                     points(grain_id, x, y, z));\" % dbname)\n",
    "\n",
    "        for crack_id in range(1,10):\n",
    "            cursor = conn.execute('select * from crack_nodes where crack_id = %d order by node_order asc' % (crack_id))\n",
    "            for row in cursor:\n",
    "                node_order = row[2]\n",
    "                if (node_order % mod == 0):\n",
    "                    arr_index = row[1]\n",
    "                    x = row[5]\n",
    "                    y = row[6]\n",
    "                    z = row[7]\n",
    "                    neighbors = nearest_neighbor_ids_coors(tree, x, y, z, r, ids)\n",
    "                    for n in neighbors:\n",
    "                        conn.execute('insert into %s values (%d, %d, %d, %d, %d, %d)' \\\n",
    "                                    % (dbname, crack_id, arr_index, n[0], n[1], n[2], n[3]))\n",
    "\n",
    "        conn.commit()\n",
    "        conn.close()\n",
    "        print mod\n",
    "    print 'done'"
   ]
  },
  {
   "cell_type": "code",
   "execution_count": 44,
   "metadata": {
    "collapsed": false
   },
   "outputs": [],
   "source": [
    "# Write nearest neighbors to text file\n",
    "def write_to_text_files(crack_fronts, tree, ids, dbpath, directorypath, r=10, crack_id=1):    \n",
    "    for point_in_crack in range(len(crack_fronts[crack_id])):\n",
    "        x, y, z = get_node_coors_from_id_setup(crack_fronts[crack_id][point_in_crack], dbpath)\n",
    "        neighbors = nearest_neighbor_ids_coors(tree, x, y, z, r, ids) \n",
    "\n",
    "        filename = directorypath + str(r) + '_' + str(crack_id) + '_' + str(point_in_crack) + '.csv'\n",
    "\n",
    "        with open(filename, 'a') as f:\n",
    "            f.write('x,y,z,grain_id\\n')\n",
    "            for i in range(len(neighbors)):\n",
    "                f.write(str(neighbors[i][1]) + ',')\n",
    "                f.write(str(neighbors[i][2]) + ',')\n",
    "                f.write(str(neighbors[i][3]) + ',')\n",
    "                f.write(str(neighbors[i][0]) + '\\n')\n",
    "        print point_in_crack\n",
    "    print 'done'"
   ]
  },
  {
   "cell_type": "code",
   "execution_count": 11,
   "metadata": {
    "collapsed": false
   },
   "outputs": [
    {
     "name": "stdout",
     "output_type": "stream",
     "text": [
      "233\n"
     ]
    }
   ],
   "source": [
    "# crack_fronts = create_crack_fronts('../../big-data/crack-front.txt')\n",
    "print len(crack_fronts[9])"
   ]
  },
  {
   "cell_type": "code",
   "execution_count": 43,
   "metadata": {
    "collapsed": false
   },
   "outputs": [
    {
     "name": "stdout",
     "output_type": "stream",
     "text": [
      "0.0\n",
      "0.0833333333333\n",
      "0.166666666667\n",
      "0.25\n",
      "0.333333333333\n",
      "0.416666666667\n",
      "0.5\n",
      "0.583333333333\n",
      "0.666666666667\n",
      "0.75\n",
      "0.833333333333\n",
      "0.916666666667\n",
      "1.0\n",
      "\n",
      "DONE!\n"
     ]
    }
   ],
   "source": [
    "# This function takes a while to run, it will print its % progress as it goes\n",
    "create_nodes_db('../../big-data/Nodes', '../../big-data/near.db')"
   ]
  },
  {
   "cell_type": "code",
   "execution_count": 45,
   "metadata": {
    "collapsed": false
   },
   "outputs": [
    {
     "name": "stdout",
     "output_type": "stream",
     "text": [
      "0.1\n",
      "0.2\n",
      "0.3\n",
      "0.4\n",
      "0.5\n",
      "0.6\n",
      "0.7\n",
      "0.8\n",
      "0.9\n",
      "DONE!\n"
     ]
    }
   ],
   "source": [
    "# This function takes FOREVER to run, (~30 mins), also prints its progress\n",
    "crack_front_db(crack_fronts, '../../big-data/near.db')"
   ]
  },
  {
   "cell_type": "code",
   "execution_count": 10,
   "metadata": {
    "collapsed": false
   },
   "outputs": [
    {
     "name": "stdout",
     "output_type": "stream",
     "text": [
      "\n",
      "done\n"
     ]
    }
   ],
   "source": [
    "save_euler_angles('../../big-data/near.db', '../data/Materials')"
   ]
  },
  {
   "cell_type": "code",
   "execution_count": 18,
   "metadata": {
    "collapsed": false
   },
   "outputs": [
    {
     "name": "stdout",
     "output_type": "stream",
     "text": [
      "done\n"
     ]
    }
   ],
   "source": [
    "base_crack_nodes('../../big-data/base.db', '../../big-data/near.db')"
   ]
  },
  {
   "cell_type": "code",
   "execution_count": 22,
   "metadata": {
    "collapsed": false
   },
   "outputs": [
    {
     "name": "stdout",
     "output_type": "stream",
     "text": [
      "done\n"
     ]
    }
   ],
   "source": [
    "# Takes about a minute to run\n",
    "create_base_points('../../big-data/base.db', '../../big-data/near.db', '../data/centers-grains.csv')"
   ]
  },
  {
   "cell_type": "code",
   "execution_count": 25,
   "metadata": {
    "collapsed": false
   },
   "outputs": [
    {
     "name": "stdout",
     "output_type": "stream",
     "text": [
      "done\n"
     ]
    }
   ],
   "source": [
    "save_grain_boundaries('../../big-data/base.db', '../data/centers-grains.csv')"
   ]
  },
  {
   "cell_type": "code",
   "execution_count": 27,
   "metadata": {
    "collapsed": true
   },
   "outputs": [],
   "source": [
    "save_short_grain_id('../../big-data/base.db')"
   ]
  },
  {
   "cell_type": "code",
   "execution_count": 33,
   "metadata": {
    "collapsed": false
   },
   "outputs": [
    {
     "name": "stdout",
     "output_type": "stream",
     "text": [
      "done\n"
     ]
    }
   ],
   "source": [
    "order_nodes('../../big-data/base.db')"
   ]
  },
  {
   "cell_type": "code",
   "execution_count": 27,
   "metadata": {
    "collapsed": false
   },
   "outputs": [
    {
     "name": "stdout",
     "output_type": "stream",
     "text": [
      "2\n",
      "3\n",
      "4\n",
      "5\n",
      "6\n",
      "7\n",
      "8\n",
      "9\n",
      "10\n",
      "11\n",
      "12\n",
      "13\n",
      "14\n",
      "15\n",
      "16\n",
      "17\n",
      "18\n",
      "19\n",
      "20\n",
      "done\n"
     ]
    }
   ],
   "source": [
    "# This takes a bit of time, but not too bad, maybe a few minutes\n",
    "tree, ids = create_tree('../data/centers-grains.csv')\n",
    "# print 'tree'\n",
    "create_neighbors(tree, ids, '../../big-data/base.db') # /big-data-smaller-r/base.db')"
   ]
  },
  {
   "cell_type": "code",
   "execution_count": 11,
   "metadata": {
    "collapsed": false
   },
   "outputs": [],
   "source": [
    "# This one can take about 30 minutes if you run it for higher crack_id's or with big r's\n",
    "write_to_text_files(crack_fronts, tree, ids, '../../big-data/near.db', '../data/neighbors/r_', r=10, crack_id=9)"
   ]
  },
  {
   "cell_type": "code",
   "execution_count": 23,
   "metadata": {
    "collapsed": true
   },
   "outputs": [],
   "source": [
    "# conn = sqlite3.connect('../../big-data-smaller-r/base.db')\n",
    "# for r in range(6,61,3):\n",
    "#     conn.execute('drop table data_%d'%r)\n",
    "# conn.commit()\n",
    "# conn.close()"
   ]
  },
  {
   "cell_type": "code",
   "execution_count": 25,
   "metadata": {
    "collapsed": false
   },
   "outputs": [
    {
     "name": "stdout",
     "output_type": "stream",
     "text": [
      "6\n",
      "8\n",
      "10\n",
      "12\n",
      "14\n",
      "16\n",
      "18\n",
      "20\n",
      "22\n",
      "24\n",
      "26\n",
      "28\n",
      "30\n",
      "32\n",
      "34\n",
      "36\n",
      "38\n",
      "40\n",
      "42\n"
     ]
    }
   ],
   "source": [
    "# for mod in range(2,21): # 2->3 for subtracting mod from r, nothing is closer than 6...\n",
    "#     r = mod * 3 - mod + 2\n",
    "#     print r"
   ]
  },
  {
   "cell_type": "code",
   "execution_count": null,
   "metadata": {
    "collapsed": true
   },
   "outputs": [],
   "source": []
  }
 ],
 "metadata": {
  "kernelspec": {
   "display_name": "Python 2",
   "language": "python",
   "name": "python2"
  },
  "language_info": {
   "codemirror_mode": {
    "name": "ipython",
    "version": 2
   },
   "file_extension": ".py",
   "mimetype": "text/x-python",
   "name": "python",
   "nbconvert_exporter": "python",
   "pygments_lexer": "ipython2",
   "version": "2.7.11"
  }
 },
 "nbformat": 4,
 "nbformat_minor": 0
}
