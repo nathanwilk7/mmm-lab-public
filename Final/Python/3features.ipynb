{
 "cells": [
  {
   "cell_type": "code",
   "execution_count": 6,
   "metadata": {
    "collapsed": false
   },
   "outputs": [],
   "source": [
    "# def create_crack_fronts(fname):\n",
    "#     crack_fronts = []\n",
    "#     node_ids = []\n",
    "#     with open(fname, 'r') as f:\n",
    "#         for line in f:\n",
    "#             if 'Crack' in line:\n",
    "#                 crack_fronts.append(list(node_ids))\n",
    "#                 node_ids = []\n",
    "#             elif 'Number' not in line:\n",
    "#                 node_ids.append(int(line))\n",
    "#         if (len(node_ids) != 0):\n",
    "#             crack_fronts.append(list(node_ids))\n",
    "#     return crack_fronts;\n",
    "\n",
    "# import numpy as np\n",
    "# import sqlite3\n",
    "\n",
    "# crack_fronts = create_crack_fronts('../../big-data/crack-front.txt')\n",
    "# len_1 = len(crack_fronts[1])\n",
    "# len_2 = len(crack_fronts[2])\n",
    "# len_3 = len(crack_fronts[3])\n",
    "# len_4 = len(crack_fronts[4])\n",
    "# len_5 = len(crack_fronts[5])\n",
    "# len_6 = len(crack_fronts[6])\n",
    "# len_7 = len(crack_fronts[7])\n",
    "# len_8 = len(crack_fronts[8])\n",
    "# len_9 = len(crack_fronts[9])\n",
    "\n",
    "# total = 0\n",
    "# for i in range(1,10):\n",
    "#     total += len(crack_fronts[i])\n",
    "\n",
    "# print 'Total number of points: ' + str(total)\n",
    "# print 'Number of points on crack front 1: ' + str(len_1)\n",
    "# print 'Number of points on crack front 2: ' + str(len_2)\n",
    "# print 'Number of points on crack front 3: ' + str(len_3)\n",
    "# print 'Number of points on crack front 4: ' + str(len_4)\n",
    "# print 'Number of points on crack front 5: ' + str(len_5)\n",
    "# print 'Number of points on crack front 6: ' + str(len_6)\n",
    "# print 'Number of points on crack front 7: ' + str(len_7)\n",
    "# print 'Number of points on crack front 8: ' + str(len_8)\n",
    "# print 'Number of points on crack front 9: ' + str(len_9)"
   ]
  },
  {
   "cell_type": "code",
   "execution_count": 7,
   "metadata": {
    "collapsed": true
   },
   "outputs": [],
   "source": [
    "# def create_tree(fname):\n",
    "#     from scipy import spatial\n",
    "#     x_s = []\n",
    "#     y_s = []\n",
    "#     z_s = []\n",
    "#     ids = []\n",
    "\n",
    "#     with open(fname, 'r') as f:\n",
    "#         for line in f:\n",
    "#             tokens = line.split(',')\n",
    "#             x_s.append(float(tokens[0]))\n",
    "#             y_s.append(float(tokens[1]))\n",
    "#             z_s.append(float(tokens[2]))\n",
    "#             ids.append(int(tokens[3].rstrip()))\n",
    "\n",
    "#     tree = spatial.KDTree(zip(x_s,y_s,z_s))\n",
    "#     return tree, ids\n",
    "\n",
    "# tree, ids = create_tree('../data/point_cloud_no_label.csv')\n",
    "# print 'done'"
   ]
  },
  {
   "cell_type": "code",
   "execution_count": 8,
   "metadata": {
    "collapsed": true
   },
   "outputs": [],
   "source": [
    "# # Get Nearest Neighbors (grain_id, x, y, z)\n",
    "# def get_node_coors_from_id(node_id, dbpath):\n",
    "#     conn = sqlite3.connect(dbpath)\n",
    "#     cursor = conn.execute(\"SELECT x, y, z  from crack_nodes where node_id = \" + str(node_id))\n",
    "#     for row in cursor:\n",
    "#         x = row[0]\n",
    "#         y =  row[1]\n",
    "#         z = row[2]\n",
    "#     conn.close()\n",
    "#     return x, y, z"
   ]
  },
  {
   "cell_type": "code",
   "execution_count": 9,
   "metadata": {
    "collapsed": true
   },
   "outputs": [],
   "source": [
    "# def nearest_neighbor_ids_coors(tree, x, y, z, radius, ids):\n",
    "#     neighbors = tree.query_ball_point((x,y,z), radius)\n",
    "#     grain_ids_coors = []\n",
    "#     for i in neighbors:\n",
    "#         grain_ids_coors.append((ids[int((tree.data[i][0]/6)+(67*(tree.data[i][1]/6))+(8375*(tree.data[i][2])/6))], \n",
    "#                           int(tree.data[i][0]), int(tree.data[i][1]), int(tree.data[i][2])))\n",
    "\n",
    "#     return grain_ids_coors"
   ]
  },
  {
   "cell_type": "code",
   "execution_count": 10,
   "metadata": {
    "collapsed": false
   },
   "outputs": [],
   "source": [
    "def alter_tables_grain_weight(dbpath):\n",
    "    conn = sqlite3.connect(dbpath)\n",
    "    for r in range(6,43,2):#(6,61,3):\n",
    "        conn.execute('alter table neighbor_%d' % r + \n",
    "                    ' add column num_xtal int')\n",
    "        conn.execute('alter table neighbor_%d' % r + \n",
    "                    ' add column rank int')\n",
    "        conn.execute('alter table neighbor_%d' % r + \n",
    "                    ' add column weight float')\n",
    "    conn.close()"
   ]
  },
  {
   "cell_type": "code",
   "execution_count": 11,
   "metadata": {
    "collapsed": true
   },
   "outputs": [],
   "source": [
    "# Nearest Neighbors - Grain Weight Features\n",
    "def nn_features(dbpath):\n",
    "    import sqlite3\n",
    "    import operator\n",
    "    num_cracks = 9\n",
    "    \n",
    "    conn = sqlite3.connect(dbpath)\n",
    "    \n",
    "    for r in range(6,43,2):#(6,61,3):\n",
    "        x = 0\n",
    "        for crack_id in range(1,num_cracks + 1):\n",
    "            cursor = conn.execute('select distinct arr_index from neighbor_%d where crack_id=%d' % (r, crack_id))\n",
    "            for row in cursor:\n",
    "                neighbors = []\n",
    "                cursor2 = conn.execute('select grain_id from neighbor_%d where crack_id=%d and arr_index=%d' \\\n",
    "                                      % (r, crack_id, row[0]))\n",
    "                for row2 in cursor2:\n",
    "                    grain_id_ = row2[0]\n",
    "                    grain_id = grain_id_ % 10000\n",
    "                    neighbors.append(grain_id)\n",
    "\n",
    "                pts_grain = {}\n",
    "                for i in neighbors:\n",
    "                    if i in pts_grain:\n",
    "                        pts_grain[i] += 1\n",
    "                    else:\n",
    "                        pts_grain[i] = 1\n",
    "\n",
    "                sorted_pts = sorted(pts_grain.items(), key=operator.itemgetter(1), reverse=True)\n",
    "                total_pts = len(neighbors)\n",
    "                rank = 1\n",
    "                for i in range(len(sorted_pts)):\n",
    "                    num_pts = sorted_pts[i][1]\n",
    "                    if num_pts < sorted_pts[i - 1][1] and i > 0:\n",
    "                        rank += 1\n",
    "                    weight = float(num_pts) / float(total_pts)\n",
    "                    num_xtal = len(sorted_pts)\n",
    "                    conn.execute(\"update neighbor_%d set num_xtal=%d, rank=%d, weight=%f \"%(r,num_xtal,rank,weight)+\n",
    "                                 \"where crack_id=%d and arr_index=%d and grain_id %% 10000 = %d\" \\\n",
    "                                 % (crack_id, row[0], sorted_pts[i][0]))\n",
    "        print r\n",
    "    conn.commit()\n",
    "    conn.close()"
   ]
  },
  {
   "cell_type": "code",
   "execution_count": 12,
   "metadata": {
    "collapsed": true
   },
   "outputs": [],
   "source": [
    "def create_data_dbs(dbpath):\n",
    "    conn = sqlite3.connect(dbpath)\n",
    "    for r in range(6,43,2):#(6,61,3):\n",
    "        conn.execute('create table data_%d'%r+' (crack_id int,arr_index int,theta float,x float,y float,z float,' +\n",
    "                     'num_xtal int, primary key(crack_id, arr_index))')\n",
    "        \n",
    "        for i in range(1,11):\n",
    "            conn.execute('alter table data_%d'%r+' add column grain_id_%d int'%i)\n",
    "            conn.execute('alter table data_%d'%r+' add column phi1_%d int'%i)\n",
    "            conn.execute('alter table data_%d'%r+' add column Phi_%d int'%i)\n",
    "            conn.execute('alter table data_%d'%r+' add column phi2_%d int'%i)\n",
    "            conn.execute('alter table data_%d'%r+' add column weight_%d float'%i)\n",
    "\n",
    "        for i in range(1,11):\n",
    "            for j in range(i + 1, 11):\n",
    "                conn.execute('alter table data_%d'%r+' add column mis_%dto%d float'%(i,j))\n",
    "    conn.close()\n",
    "    print 'done'"
   ]
  },
  {
   "cell_type": "code",
   "execution_count": 13,
   "metadata": {
    "collapsed": true
   },
   "outputs": [],
   "source": [
    "import sqlite3\n",
    "\n",
    "def setup_data_dbs(dbpath):\n",
    "    conn = sqlite3.connect(dbpath)\n",
    "    for r in range(6,43,2):#(6,61,3):\n",
    "        conn.execute('insert into data_%d'%r + ' (crack_id,arr_index) select crack_id,arr_index from crack_nodes')\n",
    "        conn.commit()\n",
    "        cursor = conn.execute('select crack_id,arr_index from data_%d'%r)\n",
    "        for row in cursor:\n",
    "            cursor2 = conn.execute('select theta,x,y,z from crack_nodes where crack_id=%d and arr_index=%d'%(row[0],row[1]))\n",
    "            for row2 in cursor2:\n",
    "                conn.execute('update data_%d set theta=%f,x=%f,y=%f,z=%f where \\\n",
    "                             crack_id=%d and arr_index=%d'%(r,row2[0],row2[1],row2[2],row2[3],row[0],row[1]))\n",
    "    conn.commit()\n",
    "    \n",
    "    conn.close()\n",
    "    print 'done'"
   ]
  },
  {
   "cell_type": "code",
   "execution_count": 14,
   "metadata": {
    "collapsed": false
   },
   "outputs": [],
   "source": [
    "import sqlite3\n",
    "\n",
    "def save_phis(dbpath, db2path):\n",
    "\n",
    "    conn = sqlite3.connect(dbpath)\n",
    "    grain_id_short = -1 # These are here just cause it makes it work...\n",
    "    arr_index = -1\n",
    "    for r in range(6,43,2):#(6,61,3):\n",
    "        cursor = conn.execute('select distinct crack_id, arr_index, (grain_id % 10000)as gid, num_xtal, rank, weight ' +\n",
    "                              'from neighbor_%d order by crack_id asc, arr_index asc, rank asc'%r)\n",
    "        x = 0\n",
    "        num = 1\n",
    "        for row in cursor:\n",
    "            crack_id=row[0]\n",
    "            if grain_id_short != row[2]:\n",
    "                if x > 0:\n",
    "                    num += 1\n",
    "            if arr_index != row[1]:\n",
    "                num = 1\n",
    "            arr_index=row[1]\n",
    "            grain_id_short=row[2]\n",
    "            num_xtal=row[3]\n",
    "            rank=row[4]\n",
    "            weight=row[5]\n",
    "            \n",
    "            conn2 = sqlite3.connect(db2path)\n",
    "            cursor2 = conn2.execute('select distinct phi1,Phi,phi2 from euler_angles where grain_id%%10000=%d'%grain_id_short)\n",
    "            for row2 in cursor2:\n",
    "                phi1=row2[0]\n",
    "                Phi=row2[1]\n",
    "                phi2=row2[2]\n",
    "\n",
    "            if (num > 0 and num <= 10):\n",
    "                conn.execute('update data_%d set grain_id_%d=%d where crack_id=%d and arr_index=%d' \\\n",
    "                            % (r, num, grain_id_short, crack_id, arr_index))\n",
    "                conn.execute('update data_%d set phi1_%d=%f,Phi_%d=%f,phi2_%d=%f where crack_id=%d and arr_index=%d' \\\n",
    "                            % (r, num, phi1, num, Phi, num, phi2, crack_id, arr_index))\n",
    "                conn.execute('update data_%d set num_xtal=%d,weight_%d=%f where crack_id=%d and arr_index=%d' \\\n",
    "                            % (r, num_xtal, num, weight, crack_id, arr_index))\n",
    "            x+=1\n",
    "        print r\n",
    "            \n",
    "    conn.commit()\n",
    "    conn.close()\n",
    "    print 'done'"
   ]
  },
  {
   "cell_type": "code",
   "execution_count": 15,
   "metadata": {
    "collapsed": true
   },
   "outputs": [],
   "source": [
    "# Calculate misorientation between two grains with Euler Angles\n",
    "\n",
    "from numpy import *\n",
    "\n",
    "#######################################################\n",
    "def get_R_o(EAngles):\n",
    "\n",
    "    # returns rotation matrix\n",
    "            \n",
    "    R_o = zeros((3,3),dtype=double)\n",
    "    \n",
    "    euler_phi1 = EAngles[0]\n",
    "    euler_Phi = EAngles[1]\n",
    "    euler_phi2 = EAngles[2]\n",
    "    \n",
    "    R_o[0,0]= cos(euler_phi1)*cos(euler_phi2) - sin(euler_phi1)*sin(euler_phi2)*cos(euler_Phi)\n",
    "    R_o[1,0]= -cos(euler_phi1)*sin(euler_phi2) - sin(euler_phi1)*cos(euler_phi2)*cos(euler_Phi)\n",
    "    R_o[2,0]= sin(euler_phi1)*sin(euler_Phi)\n",
    "    R_o[0,1]= sin(euler_phi1)*cos(euler_phi2) + cos(euler_phi1)*sin(euler_phi2)*cos(euler_Phi)\n",
    "    R_o[1,1]= -sin(euler_phi1)*sin(euler_phi2) + cos(euler_phi1)*cos(euler_phi2)*cos(euler_Phi) \n",
    "    R_o[2,1]= -cos(euler_phi1)*sin(euler_Phi)\n",
    "    R_o[0,2]= sin(euler_phi2)*sin(euler_Phi)  \n",
    "    R_o[1,2]= cos(euler_phi2)*sin(euler_Phi)\n",
    "    R_o[2,2]= cos(euler_Phi) \n",
    "\n",
    "    return asmatrix(R_o)\n",
    "\n",
    "#######################################################\n",
    "def symmetric_operators():\n",
    "\n",
    "    # returns 24 cubic symmetric operators\n",
    "\n",
    "    sym_op = []\n",
    "\n",
    "    sym_op.append(asmatrix([[1,0,0], [0,1,0], [0,0,1]]))\n",
    "    sym_op.append(asmatrix([[0,0,1], [1,0,0], [0,1,0]]))\n",
    "    sym_op.append(asmatrix([[0,1,0], [0,0,1], [1,0,0]]))\n",
    "    sym_op.append(asmatrix([[0,-1,0], [0,0,1], [-1,0,0]])) \n",
    "    sym_op.append(asmatrix([[0,-1,0], [0,0,-1], [1,0,0]]))\n",
    "    sym_op.append(asmatrix([[0,1,0], [0,0,-1], [-1,0,0]]))\n",
    "    sym_op.append(asmatrix([[0,0,-1], [1,0,0], [0,-1,0]]))\n",
    "    sym_op.append(asmatrix([[0,0,-1], [-1,0,0], [0,1,0]]))\n",
    "    sym_op.append(asmatrix([[0,0,1], [-1,0,0], [0,-1,0]]))\n",
    "    sym_op.append(asmatrix([[-1,0,0], [0,1,0], [0,0,-1]]))\n",
    "    sym_op.append(asmatrix([[-1,0,0], [0,-1,0], [0,0,1]]))\n",
    "    sym_op.append(asmatrix([[1,0,0], [0,-1,0], [0,0,-1]]))\n",
    "    sym_op.append(asmatrix([[0,0,-1], [0,-1,0], [-1,0,0]])) \n",
    "    sym_op.append(asmatrix([[0,0,1], [0,-1,0], [1,0,0]]))\n",
    "    sym_op.append(asmatrix([[0,0,1], [0,1,0], [-1,0,0]]))\n",
    "    sym_op.append(asmatrix([[0,0,-1], [0,1,0], [1,0,0]]))\n",
    "    sym_op.append(asmatrix([[-1,0,0], [0,0,-1], [0,-1,0]]))\n",
    "    sym_op.append(asmatrix([[1,0,0], [0,0,-1], [0,1,0]]))\n",
    "    sym_op.append(asmatrix([[1,0,0], [0,0,1], [0,-1,0]]))\n",
    "    sym_op.append(asmatrix([[-1,0,0], [0,0,1], [0,1,0]]))\n",
    "    sym_op.append(asmatrix([[0,-1,0], [-1,0,0], [0,0,-1]]))\n",
    "    sym_op.append(asmatrix([[0,1,0], [-1,0,0], [0,0,1]]))\n",
    "    sym_op.append(asmatrix([[0,1,0], [1,0,0], [0,0,-1]]))\n",
    "    sym_op.append(asmatrix([[0,-1,0], [1,0,0], [0,0,1]]))\n",
    "\n",
    "    return sym_op\n",
    "\n",
    "#######################################################\n",
    "def get_disorientation_1(phi1_1, Phi_1, phi2_1, phi1_2, Phi_2, phi2_2):\n",
    "\n",
    "    # uses quaternions\n",
    "\n",
    "    # these should be in radians\n",
    "    phi1 = [phi1_1, phi1_2]\n",
    "    phi = [Phi_1, Phi_2]\n",
    "    phi2 = [phi2_1, phi2_2]\n",
    "\n",
    "    Q = {}\n",
    "    for i in range(2):\n",
    "        s = sin(0.5 * phi[i])\n",
    "        c = cos(0.5 * phi[i])\n",
    "        s1 = sin(0.5 * (phi1[i]-phi2[i]))\n",
    "        c1 = cos(0.5 * (phi1[i]-phi2[i]))\n",
    "        s2 = sin(0.5 * (phi1[i]+phi2[i]))\n",
    "        c2 = cos(0.5 * (phi1[i]+phi2[i]))\n",
    "\n",
    "        q1 = s*c1\n",
    "        q2 = s*s1\n",
    "        q3 = c*s2\n",
    "        q4 = c*c2\n",
    "\n",
    "        Q[i] = [q1, q2, q3, q4]\n",
    "\n",
    "    qresult = [0, 0, 0, 0]\n",
    "    qresult[0] = abs(Q[0][0]*Q[1][3]-Q[0][3]*Q[1][0]+Q[0][1]*Q[1][2]-Q[0][2]*Q[1][1])\n",
    "    qresult[1] = abs(Q[0][1]*Q[1][3]-Q[0][3]*Q[1][1]+Q[0][2]*Q[1][0]-Q[0][0]*Q[1][2])\n",
    "    qresult[2] = abs(Q[0][2]*Q[1][3]-Q[0][3]*Q[1][2]+Q[0][0]*Q[1][1]-Q[0][1]*Q[1][0])\n",
    "    qresult[3] = abs(Q[0][3]*Q[1][3]+Q[0][0]*Q[1][0]+Q[0][1]*Q[1][1]+Q[0][2]*Q[1][2])\n",
    "\n",
    "    temp = sort(qresult)\n",
    "\n",
    "    maximum = temp[3]\n",
    "    maximum2 = temp[2]\n",
    "\n",
    "    disor = maximum\n",
    "    if maximum < (maximum+maximum2)/sqrt(2.0):\n",
    "        disor = (maximum+maximum2)/sqrt(2.0)\n",
    "\n",
    "    rtmp = sum(qresult)/2.0\n",
    "    if disor < rtmp:\n",
    "        disor = rtmp\n",
    "\n",
    "    if disor > 1:\n",
    "        disor = 1.0\n",
    "\n",
    "    if disor < -1:\n",
    "        disor = -1.0\n",
    "\n",
    "    return arccos(disor)*360/pi\n",
    "\n",
    "#######################################################\n",
    "def get_disorientation_2(phi1_1, Phi_1, phi2_1, phi1_2, Phi_2, phi2_2):\n",
    "\n",
    "    # uses 24 cubic symmetric operators\n",
    "\n",
    "    # get Euler angles (radians)\n",
    "    mat_1_angles = [phi1_1, Phi_1, phi2_1]\n",
    "    mat_2_angles = phi1_2, Phi_2, phi2_2\n",
    "\n",
    "    # calculate orientation matrix of grain 1\n",
    "    g_A = get_R_o([mat_1_angles[0],mat_1_angles[1],mat_1_angles[2]])\n",
    "\n",
    "    # calculate orientation matrix of grain 2\n",
    "    g_B = get_R_o([mat_2_angles[0],mat_2_angles[1],mat_2_angles[2]])\n",
    "\n",
    "    # misorientation matrix\n",
    "    del_g = g_B * linalg.inv(g_A)\n",
    "\n",
    "    # get symmetric operators\n",
    "    sym_op = symmetric_operators()\n",
    "\n",
    "    # containers for misorientation angles and rotation axes\n",
    "    misorientations = []\n",
    "    rotation_axes = {}\n",
    "\n",
    "    # calculate misorientations\n",
    "    for i in range(24):\n",
    "        r = sym_op[i] * del_g\n",
    "        misorientations.append(rad2deg(arccos((trace(r)-1)/2.0)))\n",
    "\n",
    "    # return disorientation\n",
    "    return min(misorientations)"
   ]
  },
  {
   "cell_type": "code",
   "execution_count": 16,
   "metadata": {
    "collapsed": false
   },
   "outputs": [],
   "source": [
    "import sqlite3\n",
    "\n",
    "def save_misor_data(dbpath):\n",
    "\n",
    "    conn = sqlite3.connect(dbpath)\n",
    "    \n",
    "    for r in range(6,43,2):#(6,61,3):\n",
    "        cursor = conn.execute('select crack_id, arr_index, num_xtal, ' +\n",
    "            'phi1_1, phi1_2, phi1_3, phi1_4, phi1_5, phi1_6, phi1_7, phi1_8, phi1_9, phi1_10, ' +\n",
    "            'Phi_1, Phi_2, Phi_3, Phi_4, Phi_5, Phi_6, Phi_7, Phi_8, Phi_9, Phi_10, ' +\n",
    "            'phi2_1, phi2_2, phi2_3, phi2_4, phi2_5, phi2_6, phi2_7, phi2_8, phi2_9, phi2_10 from data_%d'%r)\n",
    "        x=0\n",
    "        for row in cursor:\n",
    "            crack_id=row[0]\n",
    "            arr_index=row[1]\n",
    "            num_xtal=row[2]\n",
    "            \n",
    "            phi1s = []\n",
    "            Phis = []\n",
    "            phi2s = []\n",
    "            \n",
    "            for i in range(3,13):\n",
    "                phi1s.append(row[i])\n",
    "                Phis.append(row[i+10])\n",
    "                phi2s.append(row[i+20])\n",
    "            \n",
    "            if num_xtal > 1:\n",
    "                if num_xtal > 10: # We don't care about more than 10 grains\n",
    "                    num_xtal = 10\n",
    "                for i in range(num_xtal):\n",
    "                    for j in range(i + 1, num_xtal):\n",
    "                        mis = get_disorientation_1(phi1s[i],Phis[i],phi2s[i],phi1s[j],Phis[j],phi2s[j])\n",
    "                        conn.execute('update data_%d set mis_%dto%d=%f where crack_id=%d and arr_index=%d' \\\n",
    "                                 %(r,i+1,j+1,mis,crack_id,arr_index))\n",
    "            x+=1\n",
    "        print r\n",
    "    conn.commit()\n",
    "    conn.close()\n",
    "    print 'done'"
   ]
  },
  {
   "cell_type": "code",
   "execution_count": 17,
   "metadata": {
    "collapsed": false
   },
   "outputs": [],
   "source": [
    "def remove_pointless_data(dbpath):\n",
    "    conn = sqlite3.connect(dbpath)\n",
    "    for r in range(6,43,2):#(6,61,3):\n",
    "        x = 0\n",
    "        cursor = conn.execute('select crack_id,arr_index,num_xtal from data_%d'%r)\n",
    "        for row in cursor:\n",
    "            if row[2] == None:\n",
    "                conn.execute(\"delete from data_%d where crack_id=%d and arr_index=%d\"%(r,row[0],row[1]))\n",
    "    conn.commit()\n",
    "    conn.close()\n",
    "    print 'done'"
   ]
  },
  {
   "cell_type": "code",
   "execution_count": 18,
   "metadata": {
    "collapsed": false
   },
   "outputs": [
    {
     "name": "stdout",
     "output_type": "stream",
     "text": [
      "done\n"
     ]
    }
   ],
   "source": [
    "alter_tables_grain_weight('../../big-data-smaller-r/base.db')\n",
    "print 'done'"
   ]
  },
  {
   "cell_type": "code",
   "execution_count": 19,
   "metadata": {
    "collapsed": false
   },
   "outputs": [
    {
     "name": "stdout",
     "output_type": "stream",
     "text": [
      "6\n",
      "8\n",
      "10\n",
      "12\n",
      "14\n",
      "16\n",
      "18\n",
      "20\n",
      "22\n",
      "24\n",
      "26\n",
      "28\n",
      "30\n",
      "32\n",
      "34\n",
      "36\n",
      "38\n",
      "40\n",
      "42\n",
      "done\n"
     ]
    }
   ],
   "source": [
    "nn_features('../../big-data-smaller-r/base.db')\n",
    "print 'done'"
   ]
  },
  {
   "cell_type": "code",
   "execution_count": 20,
   "metadata": {
    "collapsed": false
   },
   "outputs": [
    {
     "name": "stdout",
     "output_type": "stream",
     "text": [
      "done\n"
     ]
    }
   ],
   "source": [
    "create_data_dbs('../../big-data-smaller-r/base.db')"
   ]
  },
  {
   "cell_type": "code",
   "execution_count": 21,
   "metadata": {
    "collapsed": false
   },
   "outputs": [
    {
     "name": "stdout",
     "output_type": "stream",
     "text": [
      "done\n"
     ]
    }
   ],
   "source": [
    "setup_data_dbs('../../big-data-smaller-r/base.db')"
   ]
  },
  {
   "cell_type": "code",
   "execution_count": 22,
   "metadata": {
    "collapsed": false
   },
   "outputs": [
    {
     "name": "stdout",
     "output_type": "stream",
     "text": [
      "6\n",
      "8\n",
      "10\n",
      "12\n",
      "14\n",
      "16\n",
      "18\n",
      "20\n",
      "22\n",
      "24\n",
      "26\n",
      "28\n",
      "30\n",
      "32\n",
      "34\n",
      "36\n",
      "38\n",
      "40\n",
      "42\n",
      "done\n"
     ]
    }
   ],
   "source": [
    "save_phis('../../big-data-smaller-r/base.db', '../../big-data-smaller-r/near.db')"
   ]
  },
  {
   "cell_type": "code",
   "execution_count": 23,
   "metadata": {
    "collapsed": false
   },
   "outputs": [
    {
     "name": "stdout",
     "output_type": "stream",
     "text": [
      "6\n",
      "8\n",
      "10\n",
      "12\n",
      "14\n",
      "16\n",
      "18\n",
      "20\n",
      "22\n",
      "24\n",
      "26\n",
      "28\n",
      "30\n",
      "32\n",
      "34\n",
      "36\n",
      "38\n",
      "40\n",
      "42\n",
      "done\n"
     ]
    }
   ],
   "source": [
    "save_misor_data('../../big-data-smaller-r/base.db')"
   ]
  },
  {
   "cell_type": "code",
   "execution_count": 24,
   "metadata": {
    "collapsed": false
   },
   "outputs": [
    {
     "name": "stdout",
     "output_type": "stream",
     "text": [
      "done\n"
     ]
    }
   ],
   "source": [
    "remove_pointless_data('../../big-data-smaller-r/base.db')"
   ]
  },
  {
   "cell_type": "code",
   "execution_count": null,
   "metadata": {
    "collapsed": true
   },
   "outputs": [],
   "source": []
  }
 ],
 "metadata": {
  "kernelspec": {
   "display_name": "Python 2",
   "language": "python",
   "name": "python2"
  },
  "language_info": {
   "codemirror_mode": {
    "name": "ipython",
    "version": 2
   },
   "file_extension": ".py",
   "mimetype": "text/x-python",
   "name": "python",
   "nbconvert_exporter": "python",
   "pygments_lexer": "ipython2",
   "version": "2.7.11"
  }
 },
 "nbformat": 4,
 "nbformat_minor": 0
}
