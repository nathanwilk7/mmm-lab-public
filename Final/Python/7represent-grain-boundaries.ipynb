{
 "cells": [
  {
   "cell_type": "code",
   "execution_count": 10,
   "metadata": {
    "collapsed": false
   },
   "outputs": [],
   "source": [
    "import numpy as np\n",
    "import sqlite3\n",
    "from scipy import spatial\n",
    "\n",
    "def save_gbs(dbpath):\n",
    "    conn = sqlite3.connect(dbpath)\n",
    "    \n",
    "    for r in range(6,43,2):\n",
    "        if r > 6:\n",
    "            conn.execute('alter table data_%d add column a float'%r)\n",
    "            conn.execute('alter table data_%d add column b float'%r)\n",
    "            conn.execute('alter table data_%d add column c float'%r)\n",
    "            conn.execute('alter table data_%d add column d float'%r)\n",
    "        for crack_id in range(1,9):\n",
    "            for arr_index in range(0,234): # This covers all the array indexes\n",
    "                points = conn.execute('select grain_id,x,y,z,num_xtal from neighbor_%d where crack_id=%d and \\\n",
    "                arr_index=%d order by rank asc'%(r,crack_id,arr_index))\n",
    "                x_s = []\n",
    "                y_s = []\n",
    "                z_s = []\n",
    "                ids = []\n",
    "                for point in points:\n",
    "                    grain_id = int(point[0]) % 10000\n",
    "                    x = point[1]\n",
    "                    y = point[2]\n",
    "                    z = point[3]\n",
    "                    num_xtal = point[4]\n",
    "                    x_s.append(x)\n",
    "                    y_s.append(y)\n",
    "                    z_s.append(z)\n",
    "                    ids.append(grain_id)\n",
    "\n",
    "                if num_xtal > 1 and len(x_s) > 0:\n",
    "                    tree = spatial.KDTree(zip(x_s,y_s,z_s))\n",
    "                    cursor = conn.execute('select distinct grain_id%%10000,rank from neighbor_%d where crack_id=%d \\\n",
    "                    and arr_index=%d order by rank limit 2;'%(r,crack_id,arr_index))\n",
    "                    temp = 1\n",
    "                    for row in cursor:\n",
    "                        if temp == 1:\n",
    "                            grain_id1 = row[0]\n",
    "                            temp = 2\n",
    "                        if temp == 2:\n",
    "                            grain_id2 = row[0]\n",
    "\n",
    "                    to_fit = []\n",
    "                    for i in range(len(ids)):\n",
    "                        if ids[i] == grain_id1 or ids[i] == grain_id2:\n",
    "                            radius = 7\n",
    "                            neighbors = tree.query_ball_point((x_s[i],y_s[i],z_s[i]), radius)\n",
    "                            \n",
    "                            for j in neighbors:\n",
    "                                if ids[i]==grain_id1 and ids[j]==grain_id2 or ids[i]==grain_id2 and ids[j]==grain_id1:\n",
    "                                    if (x_s[i], y_s[i], z_s[i]) not in to_fit:\n",
    "                                        to_fit.append((x_s[i], y_s[i], z_s[i]))\n",
    "                                    if (x_s[j], y_s[j], z_s[j]) not in to_fit:\n",
    "                                        to_fit.append((x_s[j], y_s[j], z_s[j]))\n",
    "                    if len(to_fit) > 2:\n",
    "                        pts = np.reshape(to_fit, (len(to_fit),3)).T\n",
    "                        centroid = np.mean(pts, axis=1) # centroid, plane has to go through here\n",
    "                        A = np.array(pts)\n",
    "                        A = A - centroid.reshape((3,1))\n",
    "                        U, S, V = np.linalg.svd(A)\n",
    "                        n = U[:,2]\n",
    "                        a = n[0]\n",
    "                        b = n[1]\n",
    "                        c = n[2]\n",
    "                        d = - centroid.dot(n)\n",
    "\n",
    "                        # a,b,c,d are set for the gb plane here\n",
    "                        conn.execute('update data_%d set a=%f, b=%f, c=%f, d=%f where crack_id=%d and arr_index=%d' \\\n",
    "                                    % (r,a,b,c,d,crack_id,arr_index))\n",
    "        print (r - 6.0) / (42.0 - 6.0)\n",
    "    conn.commit()\n",
    "    conn.close()"
   ]
  },
  {
   "cell_type": "code",
   "execution_count": 11,
   "metadata": {
    "collapsed": false
   },
   "outputs": [],
   "source": [
    "from math import acos, pi\n",
    "\n",
    "def save_angle_gb(dbpath):\n",
    "    conn = sqlite3.connect(dbpath)\n",
    "    x_center = 0.0\n",
    "    y_center = 744.0 / 2.0\n",
    "    z_center = 306.0 # Based on average of Z's\n",
    "    for r in range(6,43,2):\n",
    "#         conn.execute('alter table data_%d add column angle_gb float'%r)\n",
    "        points = conn.execute('select a,b,c,x,y,z,crack_id,arr_index from data_%d'%r)\n",
    "        for point in points:\n",
    "            a = point[0]\n",
    "            b = point[1]\n",
    "            c = point[2]\n",
    "            x = point[3]\n",
    "            y = point[4]\n",
    "            z = point[5]\n",
    "            crack_id = point[6]\n",
    "            arr_index = point[7]\n",
    "            vec2pt = np.array((x - x_center, y - y_center, z - z_center))\n",
    "            vec2gb = np.array((a,b,c))\n",
    "            if a is not None and b is not None and c is not None:\n",
    "                angle_gb = acos(vec2pt.dot(vec2gb) / ((vec2pt.dot(vec2pt) ** 0.5)*(vec2gb.dot(vec2gb) ** 0.5)))\n",
    "                if angle_gb > pi / 2.0:\n",
    "                    angle_gb = abs(angle_gb - pi)\n",
    "                conn.execute('update data_%d set angle_gb=%f where crack_id=%d and arr_index=%d' \\\n",
    "                             %(r,angle_gb,crack_id,arr_index))\n",
    "    conn.commit()\n",
    "    conn.close()"
   ]
  },
  {
   "cell_type": "code",
   "execution_count": 12,
   "metadata": {
    "collapsed": true
   },
   "outputs": [],
   "source": [
    "def save_dist_gb(dbpath):\n",
    "    conn = sqlite3.connect(dbpath)\n",
    "    for r in range(6,43,2):\n",
    "        conn.execute('alter table data_%d add column dist_gb float'%r)\n",
    "        conn.execute('alter table data_%d add column signed_dist_gb float'%r)\n",
    "        points = conn.execute('select a,b,c,d,x,y,z,crack_id,arr_index from data_%d'%r)\n",
    "        for point in points:\n",
    "            a = point[0]\n",
    "            b = point[1]\n",
    "            c = point[2]\n",
    "            d = point[3]\n",
    "            x = point[4]\n",
    "            y = point[5]\n",
    "            z = point[6]\n",
    "            crack_id = point[7]\n",
    "            arr_index = point[8]\n",
    "            if a is not None and b is not None and c is not None:\n",
    "                signed_dist_gb = (a*x + b*y + c*z + d) / (a**2 + b**2 + c**2)**0.5\n",
    "                dist_gb = abs(signed_dist_gb)\n",
    "                conn.execute('update data_%d set dist_gb=%f where crack_id=%d and arr_index=%d' \\\n",
    "                             %(r,dist_gb,crack_id,arr_index))\n",
    "                conn.execute('update data_%d set signed_dist_gb=%f where crack_id=%d and arr_index=%d' \\\n",
    "                             %(r,signed_dist_gb,crack_id,arr_index))\n",
    "    conn.commit()\n",
    "    conn.close()\n",
    "    print 'done'"
   ]
  },
  {
   "cell_type": "code",
   "execution_count": 13,
   "metadata": {
    "collapsed": false
   },
   "outputs": [],
   "source": [
    "# save_gbs('../../big-data-smaller-r/base.db')"
   ]
  },
  {
   "cell_type": "code",
   "execution_count": 14,
   "metadata": {
    "collapsed": false
   },
   "outputs": [],
   "source": [
    "# save_angle_gb('../../big-data-smaller-r/base.db')"
   ]
  },
  {
   "cell_type": "code",
   "execution_count": 15,
   "metadata": {
    "collapsed": false
   },
   "outputs": [],
   "source": [
    "# save_dist_gb('../../big-data-smaller-r/base.db')"
   ]
  },
  {
   "cell_type": "code",
   "execution_count": null,
   "metadata": {
    "collapsed": true
   },
   "outputs": [],
   "source": []
  }
 ],
 "metadata": {
  "kernelspec": {
   "display_name": "Python 2",
   "language": "python",
   "name": "python2"
  },
  "language_info": {
   "codemirror_mode": {
    "name": "ipython",
    "version": 2
   },
   "file_extension": ".py",
   "mimetype": "text/x-python",
   "name": "python",
   "nbconvert_exporter": "python",
   "pygments_lexer": "ipython2",
   "version": "2.7.11"
  }
 },
 "nbformat": 4,
 "nbformat_minor": 0
}
